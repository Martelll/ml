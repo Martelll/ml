{
 "cells": [
  {
   "cell_type": "markdown",
   "metadata": {},
   "source": [
    "# Предсказываем зарплату по вакансии"
   ]
  },
  {
   "cell_type": "code",
   "execution_count": 1,
   "metadata": {},
   "outputs": [],
   "source": [
    "import numpy as np\n",
    "import pandas as pd\n",
    "import matplotlib.pyplot as plt\n",
    "import seaborn as sns"
   ]
  },
  {
   "cell_type": "code",
   "execution_count": 2,
   "metadata": {},
   "outputs": [
    {
     "data": {
      "text/html": [
       "<div>\n",
       "<style scoped>\n",
       "    .dataframe tbody tr th:only-of-type {\n",
       "        vertical-align: middle;\n",
       "    }\n",
       "\n",
       "    .dataframe tbody tr th {\n",
       "        vertical-align: top;\n",
       "    }\n",
       "\n",
       "    .dataframe thead th {\n",
       "        text-align: right;\n",
       "    }\n",
       "</style>\n",
       "<table border=\"1\" class=\"dataframe\">\n",
       "  <thead>\n",
       "    <tr style=\"text-align: right;\">\n",
       "      <th></th>\n",
       "      <th>Id</th>\n",
       "      <th>Title</th>\n",
       "      <th>FullDescription</th>\n",
       "      <th>LocationRaw</th>\n",
       "      <th>LocationNormalized</th>\n",
       "      <th>ContractType</th>\n",
       "      <th>ContractTime</th>\n",
       "      <th>Company</th>\n",
       "      <th>Category</th>\n",
       "      <th>SalaryRaw</th>\n",
       "      <th>SalaryNormalized</th>\n",
       "      <th>SourceName</th>\n",
       "    </tr>\n",
       "  </thead>\n",
       "  <tbody>\n",
       "    <tr>\n",
       "      <th>0</th>\n",
       "      <td>12612628</td>\n",
       "      <td>Engineering Systems Analyst</td>\n",
       "      <td>Engineering Systems Analyst Dorking Surrey Sal...</td>\n",
       "      <td>Dorking, Surrey, Surrey</td>\n",
       "      <td>Dorking</td>\n",
       "      <td>NaN</td>\n",
       "      <td>permanent</td>\n",
       "      <td>Gregory Martin International</td>\n",
       "      <td>Engineering Jobs</td>\n",
       "      <td>20000 - 30000/annum 20-30K</td>\n",
       "      <td>25000</td>\n",
       "      <td>cv-library.co.uk</td>\n",
       "    </tr>\n",
       "    <tr>\n",
       "      <th>1</th>\n",
       "      <td>12612830</td>\n",
       "      <td>Stress Engineer Glasgow</td>\n",
       "      <td>Stress Engineer Glasgow Salary **** to **** We...</td>\n",
       "      <td>Glasgow, Scotland, Scotland</td>\n",
       "      <td>Glasgow</td>\n",
       "      <td>NaN</td>\n",
       "      <td>permanent</td>\n",
       "      <td>Gregory Martin International</td>\n",
       "      <td>Engineering Jobs</td>\n",
       "      <td>25000 - 35000/annum 25-35K</td>\n",
       "      <td>30000</td>\n",
       "      <td>cv-library.co.uk</td>\n",
       "    </tr>\n",
       "    <tr>\n",
       "      <th>2</th>\n",
       "      <td>12612844</td>\n",
       "      <td>Modelling and simulation analyst</td>\n",
       "      <td>Mathematical Modeller / Simulation Analyst / O...</td>\n",
       "      <td>Hampshire, South East, South East</td>\n",
       "      <td>Hampshire</td>\n",
       "      <td>NaN</td>\n",
       "      <td>permanent</td>\n",
       "      <td>Gregory Martin International</td>\n",
       "      <td>Engineering Jobs</td>\n",
       "      <td>20000 - 40000/annum 20-40K</td>\n",
       "      <td>30000</td>\n",
       "      <td>cv-library.co.uk</td>\n",
       "    </tr>\n",
       "    <tr>\n",
       "      <th>3</th>\n",
       "      <td>12613049</td>\n",
       "      <td>Engineering Systems Analyst / Mathematical Mod...</td>\n",
       "      <td>Engineering Systems Analyst / Mathematical Mod...</td>\n",
       "      <td>Surrey, South East, South East</td>\n",
       "      <td>Surrey</td>\n",
       "      <td>NaN</td>\n",
       "      <td>permanent</td>\n",
       "      <td>Gregory Martin International</td>\n",
       "      <td>Engineering Jobs</td>\n",
       "      <td>25000 - 30000/annum 25K-30K negotiable</td>\n",
       "      <td>27500</td>\n",
       "      <td>cv-library.co.uk</td>\n",
       "    </tr>\n",
       "    <tr>\n",
       "      <th>4</th>\n",
       "      <td>12613647</td>\n",
       "      <td>Pioneer, Miser Engineering Systems Analyst</td>\n",
       "      <td>Pioneer, Miser  Engineering Systems Analyst Do...</td>\n",
       "      <td>Surrey, South East, South East</td>\n",
       "      <td>Surrey</td>\n",
       "      <td>NaN</td>\n",
       "      <td>permanent</td>\n",
       "      <td>Gregory Martin International</td>\n",
       "      <td>Engineering Jobs</td>\n",
       "      <td>20000 - 30000/annum 20-30K</td>\n",
       "      <td>25000</td>\n",
       "      <td>cv-library.co.uk</td>\n",
       "    </tr>\n",
       "  </tbody>\n",
       "</table>\n",
       "</div>"
      ],
      "text/plain": [
       "         Id                                              Title  \\\n",
       "0  12612628                        Engineering Systems Analyst   \n",
       "1  12612830                            Stress Engineer Glasgow   \n",
       "2  12612844                   Modelling and simulation analyst   \n",
       "3  12613049  Engineering Systems Analyst / Mathematical Mod...   \n",
       "4  12613647         Pioneer, Miser Engineering Systems Analyst   \n",
       "\n",
       "                                     FullDescription  \\\n",
       "0  Engineering Systems Analyst Dorking Surrey Sal...   \n",
       "1  Stress Engineer Glasgow Salary **** to **** We...   \n",
       "2  Mathematical Modeller / Simulation Analyst / O...   \n",
       "3  Engineering Systems Analyst / Mathematical Mod...   \n",
       "4  Pioneer, Miser  Engineering Systems Analyst Do...   \n",
       "\n",
       "                         LocationRaw LocationNormalized ContractType  \\\n",
       "0            Dorking, Surrey, Surrey            Dorking          NaN   \n",
       "1        Glasgow, Scotland, Scotland            Glasgow          NaN   \n",
       "2  Hampshire, South East, South East          Hampshire          NaN   \n",
       "3     Surrey, South East, South East             Surrey          NaN   \n",
       "4     Surrey, South East, South East             Surrey          NaN   \n",
       "\n",
       "  ContractTime                       Company          Category  \\\n",
       "0    permanent  Gregory Martin International  Engineering Jobs   \n",
       "1    permanent  Gregory Martin International  Engineering Jobs   \n",
       "2    permanent  Gregory Martin International  Engineering Jobs   \n",
       "3    permanent  Gregory Martin International  Engineering Jobs   \n",
       "4    permanent  Gregory Martin International  Engineering Jobs   \n",
       "\n",
       "                                SalaryRaw  SalaryNormalized        SourceName  \n",
       "0              20000 - 30000/annum 20-30K             25000  cv-library.co.uk  \n",
       "1              25000 - 35000/annum 25-35K             30000  cv-library.co.uk  \n",
       "2              20000 - 40000/annum 20-40K             30000  cv-library.co.uk  \n",
       "3  25000 - 30000/annum 25K-30K negotiable             27500  cv-library.co.uk  \n",
       "4              20000 - 30000/annum 20-30K             25000  cv-library.co.uk  "
      ]
     },
     "execution_count": 2,
     "metadata": {},
     "output_type": "execute_result"
    }
   ],
   "source": [
    "data = pd.read_csv(\"Train_rev1.csv\", index_col=None)\n",
    "raw_data = data.copy()\n",
    "raw_data.head()"
   ]
  },
  {
   "cell_type": "markdown",
   "metadata": {},
   "source": [
    "# Разберемся с категориальными данными и зависимой переменной"
   ]
  },
  {
   "cell_type": "markdown",
   "metadata": {},
   "source": [
    "Оставим только нормализованные данные."
   ]
  },
  {
   "cell_type": "code",
   "execution_count": 3,
   "metadata": {},
   "outputs": [],
   "source": [
    "del data['LocationRaw']\n",
    "del data['SalaryRaw']"
   ]
  },
  {
   "cell_type": "code",
   "execution_count": 4,
   "metadata": {},
   "outputs": [],
   "source": [
    "data_mod = data.copy()"
   ]
  },
  {
   "cell_type": "code",
   "execution_count": 5,
   "metadata": {},
   "outputs": [
    {
     "data": {
      "text/plain": [
       "Id                         0\n",
       "Title                      1\n",
       "FullDescription            0\n",
       "LocationNormalized         0\n",
       "ContractType          179326\n",
       "ContractTime           63905\n",
       "Company                32430\n",
       "Category                   0\n",
       "SalaryNormalized           0\n",
       "SourceName                 1\n",
       "dtype: int64"
      ]
     },
     "execution_count": 5,
     "metadata": {},
     "output_type": "execute_result"
    }
   ],
   "source": [
    "#Посмотрим на пропуски\n",
    "data_mod.isnull().sum()"
   ]
  },
  {
   "cell_type": "code",
   "execution_count": 6,
   "metadata": {},
   "outputs": [],
   "source": [
    "#У типа и времени контракта слишком много пропусков (не хватает памяти на обработку всего)\n",
    "\n",
    "del data['ContractType']\n",
    "del data['ContractTime']"
   ]
  },
  {
   "cell_type": "code",
   "execution_count": 7,
   "metadata": {},
   "outputs": [
    {
     "data": {
      "text/plain": [
       "<matplotlib.axes._subplots.AxesSubplot at 0x1d923e81438>"
      ]
     },
     "execution_count": 7,
     "metadata": {},
     "output_type": "execute_result"
    },
    {
     "data": {
      "image/png": "[encoded data removed]",
      "text/plain": [
       "<Figure size 432x288 with 1 Axes>"
      ]
     },
     "metadata": {
      "needs_background": "light"
     },
     "output_type": "display_data"
    }
   ],
   "source": [
    "data['SalaryNormalized'].plot.kde()"
   ]
  },
  {
   "cell_type": "code",
   "execution_count": 8,
   "metadata": {},
   "outputs": [
    {
     "data": {
      "text/plain": [
       "<matplotlib.axes._subplots.AxesSubplot at 0x1d923ca7c88>"
      ]
     },
     "execution_count": 8,
     "metadata": {},
     "output_type": "execute_result"
    },
    {
     "data": {
      "image/png": "[encoded data removed]",
      "text/plain": [
       "<Figure size 432x288 with 1 Axes>"
      ]
     },
     "metadata": {
      "needs_background": "light"
     },
     "output_type": "display_data"
    }
   ],
   "source": [
    "#Проблема с правым хвостом, зависимой переменной возьем логарифм зарплаты\n",
    "\n",
    "data['Log1pSalary'] = np.log1p(data['SalaryNormalized']).astype('float32')\n",
    "\n",
    "data['Log1pSalary'].plot.kde()"
   ]
  },
  {
   "cell_type": "code",
   "execution_count": 9,
   "metadata": {},
   "outputs": [],
   "source": [
    "#Стало лучше\n",
    "\n",
    "del data['SalaryNormalized']"
   ]
  },
  {
   "cell_type": "code",
   "execution_count": 10,
   "metadata": {},
   "outputs": [],
   "source": [
    "text_columns = [\"Title\", \"FullDescription\"]\n",
    "categorical_columns = [\"Category\", \"Company\", \"LocationNormalized\"]\n",
    "target_column = \"Log1pSalary\"\n",
    "\n",
    "data[categorical_columns] = data[categorical_columns].fillna('NaN')\n",
    "cat_data = data[categorical_columns]"
   ]
  },
  {
   "cell_type": "code",
   "execution_count": 11,
   "metadata": {},
   "outputs": [
    {
     "name": "stdout",
     "output_type": "stream",
     "text": [
      "TITLE: Category\n",
      "IT Jobs                             38483\n",
      "Engineering Jobs                    25174\n",
      "Accounting & Finance Jobs           21846\n",
      "Healthcare & Nursing Jobs           21076\n",
      "Sales Jobs                          17272\n",
      "Other/General Jobs                  17055\n",
      "Teaching Jobs                       12637\n",
      "Hospitality & Catering Jobs         11351\n",
      "PR, Advertising & Marketing Jobs     8854\n",
      "Trade & Construction Jobs            8837\n",
      "HR & Recruitment Jobs                7713\n",
      "Admin Jobs                           7614\n",
      "Retail Jobs                          6584\n",
      "Customer Services Jobs               6063\n",
      "Legal Jobs                           3939\n",
      "Manufacturing Jobs                   3765\n",
      "Logistics & Warehouse Jobs           3633\n",
      "Social work Jobs                     3455\n",
      "Consultancy Jobs                     3263\n",
      "Travel Jobs                          3126\n",
      "Scientific & QA Jobs                 2489\n",
      "Charity & Voluntary Jobs             2332\n",
      "Energy, Oil & Gas Jobs               2255\n",
      "Creative & Design Jobs               1605\n",
      "Maintenance Jobs                     1542\n",
      "Graduate Jobs                        1331\n",
      "Property Jobs                        1038\n",
      "Domestic help & Cleaning Jobs         291\n",
      "Part time Jobs                        145\n",
      "Name: Category, dtype: int64\n",
      "--------------------------------\n",
      "TITLE: Company\n",
      "NaN                                   32430\n",
      "UKStaffsearch                          4997\n",
      "CVbrowser                              2977\n",
      "London4Jobs                            2345\n",
      "Hays                                   1784\n",
      "JAM Recruitment Ltd                    1122\n",
      "Office Angels                           961\n",
      "Jobsite Jobs                            932\n",
      "Perfect Placement                       865\n",
      "ARRAY                                   847\n",
      "JOBG8                                   841\n",
      "Matchtech Group plc.                    834\n",
      "Penguin Recruitment                     752\n",
      "Randstad                                748\n",
      "Adecco                                  701\n",
      "Michael Page Finance                    634\n",
      "Adecco Group                            592\n",
      "BMS Sales Specialists LLP               559\n",
      "COREcruitment International             551\n",
      "Page Personnel Finance                  536\n",
      "Capita Resourcing                       495\n",
      "Michael Page Sales                      486\n",
      "Matchtech                               474\n",
      "Rise Technical Recruitment Ltd          460\n",
      "Experis IT                              446\n",
      "ATA Recruitment                         438\n",
      "Huxley Associates                       431\n",
      "Interaction Recruitment                 428\n",
      "Support Services Group                  419\n",
      "Brookstreet UK                          417\n",
      "                                      ...  \n",
      "CorporatePay                              1\n",
      "Force One Security  Ltd                   1\n",
      "MG Partnership BSDCE Ltd                  1\n",
      "MINISTRY OF JUSTICE                       1\n",
      "Avenue Public House                       1\n",
      "Vet2Vet Recruitment                       1\n",
      "Stockeld Farms Ltd                        1\n",
      "Renshaw                                   1\n",
      "smiths construction                       1\n",
      "Starkwood Media Group                     1\n",
      "Bay Tree Care Services                    1\n",
      "Barkantine Practice                       1\n",
      "CHARNWOOD NURSERY SCHOOL                  1\n",
      "QC TRAVEL                                 1\n",
      "HANNAH MORE PRIMARY SCHOOL                1\n",
      "GO Ballooning                             1\n",
      "Skiptrix Ltd                              1\n",
      "GARSINGTON OPERA                          1\n",
      "RecruitmentPerms                          1\n",
      "Blue Arrow High Street   Maidstone        1\n",
      "Lydstep Beach Holiday Park                1\n",
      "VIP security & Training Services          1\n",
      "Bills                                     1\n",
      "Gordonstoun School                        1\n",
      "Cumbria Waste                             1\n",
      "Amberley Castle                           1\n",
      "Allied Healthcare / SAGA Homecare         1\n",
      "Atlas UK Security Services ltd            1\n",
      "Computer Angels                           1\n",
      "KBN Trading Ltd                           1\n",
      "Name: Company, Length: 20813, dtype: int64\n",
      "--------------------------------\n",
      "TITLE: LocationNormalized\n",
      "UK                               41093\n",
      "London                           30522\n",
      "South East London                11713\n",
      "The City                          6678\n",
      "Manchester                        3516\n",
      "Leeds                             3401\n",
      "Birmingham                        3061\n",
      "Central London                    2607\n",
      "West Midlands                     2540\n",
      "Surrey                            2397\n",
      "Reading                           2187\n",
      "Bristol                           2085\n",
      "Nottingham                        1873\n",
      "Sheffield                         1766\n",
      "Aberdeen                          1634\n",
      "Hampshire                         1557\n",
      "Belfast                           1537\n",
      "East Sheen                        1531\n",
      "Milton Keynes                     1523\n",
      "Berkshire                         1502\n",
      "Oxford                            1497\n",
      "Newcastle Upon Tyne               1390\n",
      "Liverpool                         1341\n",
      "Kent                              1333\n",
      "Cambridge                         1301\n",
      "Leicester                         1219\n",
      "North West London                 1104\n",
      "Guildford                         1082\n",
      "West Yorkshire                    1072\n",
      "Hertfordshire                     1039\n",
      "                                 ...  \n",
      "Crianlarich                          1\n",
      "Stow Longa                           1\n",
      "Tackley                              1\n",
      "Haddon                               1\n",
      "Holmer                               1\n",
      "Newbridge                            1\n",
      "Kesgrave                             1\n",
      "Cardiff International Airport        1\n",
      "Hambleton                            1\n",
      "Croxley Green                        1\n",
      "Tideswell                            1\n",
      "Sway                                 1\n",
      "Haydock                              1\n",
      "Yeovilton                            1\n",
      "Lympstone                            1\n",
      "Hadfield                             1\n",
      "Ruthin                               1\n",
      "Castle Bromwich                      1\n",
      "Skelton                              1\n",
      "Southville                           1\n",
      "Saltaire                             1\n",
      "Burleydam                            1\n",
      "Westbury-On-Trym                     1\n",
      "Stoke Newington                      1\n",
      "Brandon Creek                        1\n",
      "Claverdon                            1\n",
      "Penllergaer                          1\n",
      "Werrington                           1\n",
      "Kirkintilloch                        1\n",
      "West Ham                             1\n",
      "Name: LocationNormalized, Length: 2732, dtype: int64\n",
      "--------------------------------\n"
     ]
    }
   ],
   "source": [
    "#Посмотрим, на кол-во повторений категорильных переменных\n",
    "\n",
    "for i in cat_data:\n",
    "    print('TITLE:', i)\n",
    "    print(cat_data[i].value_counts())\n",
    "    print('--------------------------------')"
   ]
  },
  {
   "cell_type": "code",
   "execution_count": 12,
   "metadata": {},
   "outputs": [
    {
     "data": {
      "text/plain": [
       "DictVectorizer(dtype=<class 'numpy.float32'>, separator='=', sort=True,\n",
       "        sparse=False)"
      ]
     },
     "execution_count": 12,
     "metadata": {},
     "output_type": "execute_result"
    }
   ],
   "source": [
    "#Приводим категориальные переменные в надлежащий вид\n",
    "\n",
    "from sklearn.feature_extraction import DictVectorizer\n",
    "import collections\n",
    "\n",
    "# Рассматриваем только 100 наиболее популярных компаний\n",
    "rec_comp = []\n",
    "top_companies = collections.Counter(data['Company']).most_common(1000)\n",
    "for i in top_companies:\n",
    "    rec_comp.append(i[0])\n",
    "recognized_companies = set(rec_comp)\n",
    "data[\"Company\"] = data[\"Company\"].apply(lambda comp: comp if comp in recognized_companies else \"Other\")\n",
    "\n",
    "# Рассматриваем только 100 наиболее популярных мест\n",
    "pop_loc = []\n",
    "top_loc = collections.Counter(data['LocationNormalized']).most_common(1000)\n",
    "for i in top_loc:\n",
    "    pop_loc.append(i[0])\n",
    "pop_locations = set(pop_loc)\n",
    "data['LocationNormalized'] = data['LocationNormalized'].apply(lambda loc: loc if loc in pop_locations else \"Other\")\n",
    "\n",
    "# Рассматриваем только 100 наиболее популярных сайтов\n",
    "pop_www = []\n",
    "top_www = collections.Counter(data['SourceName']).most_common(1000)\n",
    "for i in top_www:\n",
    "    pop_www.append(i[0])\n",
    "popular_www = set(pop_www)\n",
    "data['SourceName'] = data['SourceName'].apply(lambda www: www if www in popular_www else \"Other\")\n",
    "\n",
    "categorical_vectorizer = DictVectorizer(dtype=np.float32, sparse=False)\n",
    "categorical_vectorizer.fit(cat_data.apply(dict, axis=1))"
   ]
  },
  {
   "cell_type": "markdown",
   "metadata": {},
   "source": [
    "# Поработаем с описанием и заголовком вакансии"
   ]
  },
  {
   "cell_type": "code",
   "execution_count": 13,
   "metadata": {},
   "outputs": [],
   "source": [
    "import nltk\n",
    "# from nltk.corpus import stopwords\n",
    "# from nltk.tokenize import word_tokenize\n",
    "import re"
   ]
  },
  {
   "cell_type": "code",
   "execution_count": 14,
   "metadata": {},
   "outputs": [],
   "source": [
    "#Удаляем символы\n",
    "data['FullDescription'] = data['FullDescription'].apply(lambda x: re.sub('[!@#$;:%-&?<>*)(=_*/+}{|.,]','',x))\n",
    "data['FullDescription'] = data['FullDescription'].apply(lambda x: re.sub('\\d+','',x))"
   ]
  },
  {
   "cell_type": "code",
   "execution_count": 15,
   "metadata": {},
   "outputs": [],
   "source": [
    "#приводим к нижнему регистру\n",
    "lower_descr = []\n",
    "for s in data['FullDescription']:\n",
    "    lower_descr.append(s.lower())\n",
    "\n",
    "data['FullDescription'] = lower_descr"
   ]
  },
  {
   "cell_type": "code",
   "execution_count": 16,
   "metadata": {},
   "outputs": [],
   "source": [
    "data['Title'] = data['Title'].astype(str)\n",
    "lower_title = []\n",
    "for s in data['Title']:\n",
    "    lower_title.append(s.lower())\n",
    "\n",
    "data['Title'] = lower_title"
   ]
  },
  {
   "cell_type": "code",
   "execution_count": 17,
   "metadata": {},
   "outputs": [],
   "source": [
    "del data['Id']"
   ]
  },
  {
   "cell_type": "code",
   "execution_count": 18,
   "metadata": {},
   "outputs": [
    {
     "name": "stderr",
     "output_type": "stream",
     "text": [
      "[nltk_data] Downloading package wordnet to\n",
      "[nltk_data]     C:\\Users\\marte\\AppData\\Roaming\\nltk_data...\n",
      "[nltk_data]   Package wordnet is already up-to-date!\n"
     ]
    }
   ],
   "source": [
    "#Делаем токенизацию и лемматизацию\n",
    "\n",
    "nltk.download('wordnet')\n",
    "\n",
    "lemmatizer = nltk.stem.WordNetLemmatizer()\n",
    "w_tokenizer = nltk.tokenize.WhitespaceTokenizer()\n",
    "\n",
    "def lemmatize_text(text):\n",
    "    return [lemmatizer.lemmatize(w) for w in w_tokenizer.tokenize(text)]"
   ]
  },
  {
   "cell_type": "code",
   "execution_count": 19,
   "metadata": {},
   "outputs": [],
   "source": [
    "data['FullDescription'] = data['FullDescription'].apply(lemmatize_text)"
   ]
  },
  {
   "cell_type": "code",
   "execution_count": 20,
   "metadata": {},
   "outputs": [],
   "source": [
    "data['Title'] = data['Title'].apply(lemmatize_text)"
   ]
  },
  {
   "cell_type": "markdown",
   "metadata": {},
   "source": [
    "Преобразуем данные"
   ]
  },
  {
   "cell_type": "code",
   "execution_count": 21,
   "metadata": {},
   "outputs": [
    {
     "data": {
      "text/html": [
       "<div>\n",
       "<style scoped>\n",
       "    .dataframe tbody tr th:only-of-type {\n",
       "        vertical-align: middle;\n",
       "    }\n",
       "\n",
       "    .dataframe tbody tr th {\n",
       "        vertical-align: top;\n",
       "    }\n",
       "\n",
       "    .dataframe thead th {\n",
       "        text-align: right;\n",
       "    }\n",
       "</style>\n",
       "<table border=\"1\" class=\"dataframe\">\n",
       "  <thead>\n",
       "    <tr style=\"text-align: right;\">\n",
       "      <th></th>\n",
       "      <th>Title</th>\n",
       "      <th>FullDescription</th>\n",
       "      <th>LocationNormalized</th>\n",
       "      <th>Company</th>\n",
       "      <th>Category</th>\n",
       "      <th>SourceName</th>\n",
       "      <th>Log1pSalary</th>\n",
       "    </tr>\n",
       "  </thead>\n",
       "  <tbody>\n",
       "    <tr>\n",
       "      <th>0</th>\n",
       "      <td>[engineering, system, analyst]</td>\n",
       "      <td>[engineering, system, analyst, dorking, surrey...</td>\n",
       "      <td>Dorking</td>\n",
       "      <td>Gregory Martin International</td>\n",
       "      <td>Engineering Jobs</td>\n",
       "      <td>cv-library.co.uk</td>\n",
       "      <td>10.126671</td>\n",
       "    </tr>\n",
       "    <tr>\n",
       "      <th>1</th>\n",
       "      <td>[stress, engineer, glasgow]</td>\n",
       "      <td>[stress, engineer, glasgow, salary, to, we, re...</td>\n",
       "      <td>Glasgow</td>\n",
       "      <td>Gregory Martin International</td>\n",
       "      <td>Engineering Jobs</td>\n",
       "      <td>cv-library.co.uk</td>\n",
       "      <td>10.308986</td>\n",
       "    </tr>\n",
       "    <tr>\n",
       "      <th>2</th>\n",
       "      <td>[modelling, and, simulation, analyst]</td>\n",
       "      <td>[mathematical, modeller, simulation, analyst, ...</td>\n",
       "      <td>Hampshire</td>\n",
       "      <td>Gregory Martin International</td>\n",
       "      <td>Engineering Jobs</td>\n",
       "      <td>cv-library.co.uk</td>\n",
       "      <td>10.308986</td>\n",
       "    </tr>\n",
       "    <tr>\n",
       "      <th>3</th>\n",
       "      <td>[engineering, system, analyst, /, mathematical...</td>\n",
       "      <td>[engineering, system, analyst, mathematical, m...</td>\n",
       "      <td>Surrey</td>\n",
       "      <td>Gregory Martin International</td>\n",
       "      <td>Engineering Jobs</td>\n",
       "      <td>cv-library.co.uk</td>\n",
       "      <td>10.221977</td>\n",
       "    </tr>\n",
       "    <tr>\n",
       "      <th>4</th>\n",
       "      <td>[pioneer,, miser, engineering, system, analyst]</td>\n",
       "      <td>[pioneer, miser, engineering, system, analyst,...</td>\n",
       "      <td>Surrey</td>\n",
       "      <td>Gregory Martin International</td>\n",
       "      <td>Engineering Jobs</td>\n",
       "      <td>cv-library.co.uk</td>\n",
       "      <td>10.126671</td>\n",
       "    </tr>\n",
       "  </tbody>\n",
       "</table>\n",
       "</div>"
      ],
      "text/plain": [
       "                                               Title  \\\n",
       "0                     [engineering, system, analyst]   \n",
       "1                        [stress, engineer, glasgow]   \n",
       "2              [modelling, and, simulation, analyst]   \n",
       "3  [engineering, system, analyst, /, mathematical...   \n",
       "4    [pioneer,, miser, engineering, system, analyst]   \n",
       "\n",
       "                                     FullDescription LocationNormalized  \\\n",
       "0  [engineering, system, analyst, dorking, surrey...            Dorking   \n",
       "1  [stress, engineer, glasgow, salary, to, we, re...            Glasgow   \n",
       "2  [mathematical, modeller, simulation, analyst, ...          Hampshire   \n",
       "3  [engineering, system, analyst, mathematical, m...             Surrey   \n",
       "4  [pioneer, miser, engineering, system, analyst,...             Surrey   \n",
       "\n",
       "                        Company          Category        SourceName  \\\n",
       "0  Gregory Martin International  Engineering Jobs  cv-library.co.uk   \n",
       "1  Gregory Martin International  Engineering Jobs  cv-library.co.uk   \n",
       "2  Gregory Martin International  Engineering Jobs  cv-library.co.uk   \n",
       "3  Gregory Martin International  Engineering Jobs  cv-library.co.uk   \n",
       "4  Gregory Martin International  Engineering Jobs  cv-library.co.uk   \n",
       "\n",
       "   Log1pSalary  \n",
       "0    10.126671  \n",
       "1    10.308986  \n",
       "2    10.308986  \n",
       "3    10.221977  \n",
       "4    10.126671  "
      ]
     },
     "execution_count": 21,
     "metadata": {},
     "output_type": "execute_result"
    }
   ],
   "source": [
    "data.head()"
   ]
  },
  {
   "cell_type": "code",
   "execution_count": 22,
   "metadata": {},
   "outputs": [],
   "source": [
    "from sklearn.feature_extraction.text import TfidfVectorizer\n",
    "from sklearn.model_selection import train_test_split"
   ]
  },
  {
   "cell_type": "code",
   "execution_count": 23,
   "metadata": {},
   "outputs": [],
   "source": [
    "#Превращаем список списков в список строк\n",
    "data['Title'] = [' '.join(x) for x in data['Title']]"
   ]
  },
  {
   "cell_type": "code",
   "execution_count": 24,
   "metadata": {},
   "outputs": [],
   "source": [
    "data['FullDescription'] = [' '.join(x) for x in data['FullDescription']]"
   ]
  },
  {
   "cell_type": "code",
   "execution_count": 25,
   "metadata": {},
   "outputs": [],
   "source": [
    "data_train, data_val = train_test_split(data, test_size=0.2, random_state=43)"
   ]
  },
  {
   "cell_type": "code",
   "execution_count": 26,
   "metadata": {},
   "outputs": [],
   "source": [
    "tfidf_vectorizer = TfidfVectorizer(sublinear_tf=True,\n",
    "                                   strip_accents='unicode',\n",
    "                                   stop_words='english',\n",
    "                                  analyzer='word',\n",
    "                                  ngram_range=(1,1),\n",
    "                                   max_features=500)"
   ]
  },
  {
   "cell_type": "code",
   "execution_count": 27,
   "metadata": {},
   "outputs": [
    {
     "data": {
      "text/plain": [
       "TfidfVectorizer(analyzer='word', binary=False, decode_error='strict',\n",
       "        dtype=<class 'numpy.float64'>, encoding='utf-8', input='content',\n",
       "        lowercase=True, max_df=1.0, max_features=500, min_df=1,\n",
       "        ngram_range=(1, 1), norm='l2', preprocessor=None, smooth_idf=True,\n",
       "        stop_words='english', strip_accents='unicode', sublinear_tf=True,\n",
       "        token_pattern='(?u)\\\\b\\\\w\\\\w+\\\\b', tokenizer=None, use_idf=True,\n",
       "        vocabulary=None)"
      ]
     },
     "execution_count": 27,
     "metadata": {},
     "output_type": "execute_result"
    }
   ],
   "source": [
    "tfidf_vectorizer.fit(data_train['FullDescription'])"
   ]
  },
  {
   "cell_type": "code",
   "execution_count": 28,
   "metadata": {},
   "outputs": [],
   "source": [
    "train_descr = tfidf_vectorizer.transform(data_train['FullDescription'])\n",
    "test_descr = tfidf_vectorizer.transform(data_val['FullDescription'])"
   ]
  },
  {
   "cell_type": "code",
   "execution_count": 29,
   "metadata": {},
   "outputs": [
    {
     "data": {
      "text/plain": [
       "(195814, 500)"
      ]
     },
     "execution_count": 29,
     "metadata": {},
     "output_type": "execute_result"
    }
   ],
   "source": [
    "train_descr.shape"
   ]
  },
  {
   "cell_type": "code",
   "execution_count": 30,
   "metadata": {},
   "outputs": [],
   "source": [
    "tfidf_vectorizer.fit(data_train['Title'])\n",
    "\n",
    "train_title = tfidf_vectorizer.transform(data_train['Title'])\n",
    "test_title = tfidf_vectorizer.transform(data_val['Title'])"
   ]
  },
  {
   "cell_type": "code",
   "execution_count": 31,
   "metadata": {},
   "outputs": [
    {
     "data": {
      "text/plain": [
       "scipy.sparse.csr.csr_matrix"
      ]
     },
     "execution_count": 31,
     "metadata": {},
     "output_type": "execute_result"
    }
   ],
   "source": [
    "type(train_title)"
   ]
  },
  {
   "cell_type": "code",
   "execution_count": 32,
   "metadata": {},
   "outputs": [],
   "source": [
    "cat_train = categorical_vectorizer.transform(data_train[categorical_columns].apply(dict, axis=1))\n",
    "cat_test = categorical_vectorizer.transform(data_val[categorical_columns].apply(dict, axis=1))"
   ]
  },
  {
   "cell_type": "code",
   "execution_count": 33,
   "metadata": {},
   "outputs": [
    {
     "data": {
      "text/plain": [
       "numpy.ndarray"
      ]
     },
     "execution_count": 33,
     "metadata": {},
     "output_type": "execute_result"
    }
   ],
   "source": [
    "type(cat_train)"
   ]
  },
  {
   "cell_type": "markdown",
   "metadata": {},
   "source": [
    "Приведем в более читабельный вид"
   ]
  },
  {
   "cell_type": "code",
   "execution_count": 34,
   "metadata": {},
   "outputs": [],
   "source": [
    "train_title_df = pd.DataFrame(train_title.todense())\n",
    "train_descr_df = pd.DataFrame(train_descr.todense())"
   ]
  },
  {
   "cell_type": "code",
   "execution_count": 35,
   "metadata": {},
   "outputs": [],
   "source": [
    "train_cat_df = pd.DataFrame(cat_train)"
   ]
  },
  {
   "cell_type": "code",
   "execution_count": 36,
   "metadata": {},
   "outputs": [],
   "source": [
    "test_cat_df = pd.DataFrame(cat_test)"
   ]
  },
  {
   "cell_type": "code",
   "execution_count": 37,
   "metadata": {},
   "outputs": [
    {
     "data": {
      "text/plain": [
       "(195814, 23574)"
      ]
     },
     "execution_count": 37,
     "metadata": {},
     "output_type": "execute_result"
    }
   ],
   "source": [
    "train_cat_df.shape"
   ]
  },
  {
   "cell_type": "markdown",
   "metadata": {},
   "source": [
    "Понизим размерность данных"
   ]
  },
  {
   "cell_type": "code",
   "execution_count": 38,
   "metadata": {},
   "outputs": [],
   "source": [
    "import umap"
   ]
  },
  {
   "cell_type": "code",
   "execution_count": 39,
   "metadata": {},
   "outputs": [
    {
     "ename": "MemoryError",
     "evalue": "Unable to allocate array with shape (54629, 23574) and data type float32",
     "output_type": "error",
     "traceback": [
      "\u001b[1;31m---------------------------------------------------------------------------\u001b[0m",
      "\u001b[1;31mMemoryError\u001b[0m                               Traceback (most recent call last)",
      "\u001b[1;32m<ipython-input-39-898adb263f05>\u001b[0m in \u001b[0;36m<module>\u001b[1;34m\u001b[0m\n\u001b[0;32m      1\u001b[0m \u001b[0mreducer\u001b[0m \u001b[1;33m=\u001b[0m \u001b[0mumap\u001b[0m\u001b[1;33m.\u001b[0m\u001b[0mUMAP\u001b[0m\u001b[1;33m(\u001b[0m\u001b[1;33m)\u001b[0m\u001b[1;33m\u001b[0m\u001b[1;33m\u001b[0m\u001b[0m\n\u001b[0;32m      2\u001b[0m \u001b[1;33m\u001b[0m\u001b[0m\n\u001b[1;32m----> 3\u001b[1;33m \u001b[0mtrain_cat_df\u001b[0m \u001b[1;33m=\u001b[0m \u001b[0mreducer\u001b[0m\u001b[1;33m.\u001b[0m\u001b[0mfit_transform\u001b[0m\u001b[1;33m(\u001b[0m\u001b[0mtrain_cat_df\u001b[0m\u001b[1;33m)\u001b[0m\u001b[1;33m\u001b[0m\u001b[1;33m\u001b[0m\u001b[0m\n\u001b[0m\u001b[0;32m      4\u001b[0m \u001b[0mtest_cat_df\u001b[0m \u001b[1;33m=\u001b[0m \u001b[0mreducer\u001b[0m\u001b[1;33m.\u001b[0m\u001b[0mtransform\u001b[0m\u001b[1;33m(\u001b[0m\u001b[0mtest_cat_df\u001b[0m\u001b[1;33m)\u001b[0m\u001b[1;33m\u001b[0m\u001b[1;33m\u001b[0m\u001b[0m\n\u001b[0;32m      5\u001b[0m \u001b[0mtrain_cat_df\u001b[0m\u001b[1;33m.\u001b[0m\u001b[0mshape\u001b[0m\u001b[1;33m\u001b[0m\u001b[1;33m\u001b[0m\u001b[0m\n",
      "\u001b[1;32m~\\Anaconda3\\lib\\site-packages\\umap\\umap_.py\u001b[0m in \u001b[0;36mfit_transform\u001b[1;34m(self, X, y)\u001b[0m\n\u001b[0;32m   1596\u001b[0m             \u001b[0mEmbedding\u001b[0m \u001b[0mof\u001b[0m \u001b[0mthe\u001b[0m \u001b[0mtraining\u001b[0m \u001b[0mdata\u001b[0m \u001b[1;32min\u001b[0m \u001b[0mlow\u001b[0m\u001b[1;33m-\u001b[0m\u001b[0mdimensional\u001b[0m \u001b[0mspace\u001b[0m\u001b[1;33m.\u001b[0m\u001b[1;33m\u001b[0m\u001b[1;33m\u001b[0m\u001b[0m\n\u001b[0;32m   1597\u001b[0m         \"\"\"\n\u001b[1;32m-> 1598\u001b[1;33m         \u001b[0mself\u001b[0m\u001b[1;33m.\u001b[0m\u001b[0mfit\u001b[0m\u001b[1;33m(\u001b[0m\u001b[0mX\u001b[0m\u001b[1;33m,\u001b[0m \u001b[0my\u001b[0m\u001b[1;33m)\u001b[0m\u001b[1;33m\u001b[0m\u001b[1;33m\u001b[0m\u001b[0m\n\u001b[0m\u001b[0;32m   1599\u001b[0m         \u001b[1;32mreturn\u001b[0m \u001b[0mself\u001b[0m\u001b[1;33m.\u001b[0m\u001b[0membedding_\u001b[0m\u001b[1;33m\u001b[0m\u001b[1;33m\u001b[0m\u001b[0m\n\u001b[0;32m   1600\u001b[0m \u001b[1;33m\u001b[0m\u001b[0m\n",
      "\u001b[1;32m~\\Anaconda3\\lib\\site-packages\\umap\\umap_.py\u001b[0m in \u001b[0;36mfit\u001b[1;34m(self, X, y)\u001b[0m\n\u001b[0;32m   1427\u001b[0m                 \u001b[0mself\u001b[0m\u001b[1;33m.\u001b[0m\u001b[0mangular_rp_forest\u001b[0m\u001b[1;33m,\u001b[0m\u001b[1;33m\u001b[0m\u001b[1;33m\u001b[0m\u001b[0m\n\u001b[0;32m   1428\u001b[0m                 \u001b[0mrandom_state\u001b[0m\u001b[1;33m,\u001b[0m\u001b[1;33m\u001b[0m\u001b[1;33m\u001b[0m\u001b[0m\n\u001b[1;32m-> 1429\u001b[1;33m                 \u001b[0mself\u001b[0m\u001b[1;33m.\u001b[0m\u001b[0mverbose\u001b[0m\u001b[1;33m,\u001b[0m\u001b[1;33m\u001b[0m\u001b[1;33m\u001b[0m\u001b[0m\n\u001b[0m\u001b[0;32m   1430\u001b[0m             )\n\u001b[0;32m   1431\u001b[0m \u001b[1;33m\u001b[0m\u001b[0m\n",
      "\u001b[1;32m~\\Anaconda3\\lib\\site-packages\\umap\\umap_.py\u001b[0m in \u001b[0;36mnearest_neighbors\u001b[1;34m(X, n_neighbors, metric, metric_kwds, angular, random_state, verbose)\u001b[0m\n\u001b[0;32m    267\u001b[0m             \u001b[1;32mif\u001b[0m \u001b[0mverbose\u001b[0m\u001b[1;33m:\u001b[0m\u001b[1;33m\u001b[0m\u001b[1;33m\u001b[0m\u001b[0m\n\u001b[0;32m    268\u001b[0m                 \u001b[0mprint\u001b[0m\u001b[1;33m(\u001b[0m\u001b[0mts\u001b[0m\u001b[1;33m(\u001b[0m\u001b[1;33m)\u001b[0m\u001b[1;33m,\u001b[0m \u001b[1;34m\"Building RP forest with\"\u001b[0m\u001b[1;33m,\u001b[0m \u001b[0mstr\u001b[0m\u001b[1;33m(\u001b[0m\u001b[0mn_trees\u001b[0m\u001b[1;33m)\u001b[0m\u001b[1;33m,\u001b[0m \u001b[1;34m\"trees\"\u001b[0m\u001b[1;33m)\u001b[0m\u001b[1;33m\u001b[0m\u001b[1;33m\u001b[0m\u001b[0m\n\u001b[1;32m--> 269\u001b[1;33m             \u001b[0mrp_forest\u001b[0m \u001b[1;33m=\u001b[0m \u001b[0mmake_forest\u001b[0m\u001b[1;33m(\u001b[0m\u001b[0mX\u001b[0m\u001b[1;33m,\u001b[0m \u001b[0mn_neighbors\u001b[0m\u001b[1;33m,\u001b[0m \u001b[0mn_trees\u001b[0m\u001b[1;33m,\u001b[0m \u001b[0mrng_state\u001b[0m\u001b[1;33m,\u001b[0m \u001b[0mangular\u001b[0m\u001b[1;33m)\u001b[0m\u001b[1;33m\u001b[0m\u001b[1;33m\u001b[0m\u001b[0m\n\u001b[0m\u001b[0;32m    270\u001b[0m             \u001b[0mleaf_array\u001b[0m \u001b[1;33m=\u001b[0m \u001b[0mrptree_leaf_array\u001b[0m\u001b[1;33m(\u001b[0m\u001b[0mrp_forest\u001b[0m\u001b[1;33m)\u001b[0m\u001b[1;33m\u001b[0m\u001b[1;33m\u001b[0m\u001b[0m\n\u001b[0;32m    271\u001b[0m             \u001b[1;32mif\u001b[0m \u001b[0mverbose\u001b[0m\u001b[1;33m:\u001b[0m\u001b[1;33m\u001b[0m\u001b[1;33m\u001b[0m\u001b[0m\n",
      "\u001b[1;32m~\\Anaconda3\\lib\\site-packages\\umap\\rp_tree.py\u001b[0m in \u001b[0;36mmake_forest\u001b[1;34m(data, n_neighbors, n_trees, rng_state, angular)\u001b[0m\n\u001b[0;32m    713\u001b[0m         result = [\n\u001b[0;32m    714\u001b[0m             \u001b[0mflatten_tree\u001b[0m\u001b[1;33m(\u001b[0m\u001b[0mmake_tree\u001b[0m\u001b[1;33m(\u001b[0m\u001b[0mdata\u001b[0m\u001b[1;33m,\u001b[0m \u001b[0mrng_state\u001b[0m\u001b[1;33m,\u001b[0m \u001b[0mleaf_size\u001b[0m\u001b[1;33m,\u001b[0m \u001b[0mangular\u001b[0m\u001b[1;33m)\u001b[0m\u001b[1;33m,\u001b[0m \u001b[0mleaf_size\u001b[0m\u001b[1;33m)\u001b[0m\u001b[1;33m\u001b[0m\u001b[1;33m\u001b[0m\u001b[0m\n\u001b[1;32m--> 715\u001b[1;33m             \u001b[1;32mfor\u001b[0m \u001b[0mi\u001b[0m \u001b[1;32min\u001b[0m \u001b[0mrange\u001b[0m\u001b[1;33m(\u001b[0m\u001b[0mn_trees\u001b[0m\u001b[1;33m)\u001b[0m\u001b[1;33m\u001b[0m\u001b[1;33m\u001b[0m\u001b[0m\n\u001b[0m\u001b[0;32m    716\u001b[0m         ]\n\u001b[0;32m    717\u001b[0m     \u001b[1;32mexcept\u001b[0m \u001b[1;33m(\u001b[0m\u001b[0mRuntimeError\u001b[0m\u001b[1;33m,\u001b[0m \u001b[0mRecursionError\u001b[0m\u001b[1;33m,\u001b[0m \u001b[0mSystemError\u001b[0m\u001b[1;33m)\u001b[0m\u001b[1;33m:\u001b[0m\u001b[1;33m\u001b[0m\u001b[1;33m\u001b[0m\u001b[0m\n",
      "\u001b[1;32m~\\Anaconda3\\lib\\site-packages\\umap\\rp_tree.py\u001b[0m in \u001b[0;36m<listcomp>\u001b[1;34m(.0)\u001b[0m\n\u001b[0;32m    713\u001b[0m         result = [\n\u001b[0;32m    714\u001b[0m             \u001b[0mflatten_tree\u001b[0m\u001b[1;33m(\u001b[0m\u001b[0mmake_tree\u001b[0m\u001b[1;33m(\u001b[0m\u001b[0mdata\u001b[0m\u001b[1;33m,\u001b[0m \u001b[0mrng_state\u001b[0m\u001b[1;33m,\u001b[0m \u001b[0mleaf_size\u001b[0m\u001b[1;33m,\u001b[0m \u001b[0mangular\u001b[0m\u001b[1;33m)\u001b[0m\u001b[1;33m,\u001b[0m \u001b[0mleaf_size\u001b[0m\u001b[1;33m)\u001b[0m\u001b[1;33m\u001b[0m\u001b[1;33m\u001b[0m\u001b[0m\n\u001b[1;32m--> 715\u001b[1;33m             \u001b[1;32mfor\u001b[0m \u001b[0mi\u001b[0m \u001b[1;32min\u001b[0m \u001b[0mrange\u001b[0m\u001b[1;33m(\u001b[0m\u001b[0mn_trees\u001b[0m\u001b[1;33m)\u001b[0m\u001b[1;33m\u001b[0m\u001b[1;33m\u001b[0m\u001b[0m\n\u001b[0m\u001b[0;32m    716\u001b[0m         ]\n\u001b[0;32m    717\u001b[0m     \u001b[1;32mexcept\u001b[0m \u001b[1;33m(\u001b[0m\u001b[0mRuntimeError\u001b[0m\u001b[1;33m,\u001b[0m \u001b[0mRecursionError\u001b[0m\u001b[1;33m,\u001b[0m \u001b[0mSystemError\u001b[0m\u001b[1;33m)\u001b[0m\u001b[1;33m:\u001b[0m\u001b[1;33m\u001b[0m\u001b[1;33m\u001b[0m\u001b[0m\n",
      "\u001b[1;32m~\\Anaconda3\\lib\\site-packages\\umap\\rp_tree.py\u001b[0m in \u001b[0;36mflatten_tree\u001b[1;34m(tree, leaf_size)\u001b[0m\n\u001b[0;32m    652\u001b[0m         )\n\u001b[0;32m    653\u001b[0m     \u001b[1;32melse\u001b[0m\u001b[1;33m:\u001b[0m\u001b[1;33m\u001b[0m\u001b[1;33m\u001b[0m\u001b[0m\n\u001b[1;32m--> 654\u001b[1;33m         \u001b[0mhyperplanes\u001b[0m \u001b[1;33m=\u001b[0m \u001b[0mnp\u001b[0m\u001b[1;33m.\u001b[0m\u001b[0mzeros\u001b[0m\u001b[1;33m(\u001b[0m\u001b[1;33m(\u001b[0m\u001b[0mn_nodes\u001b[0m\u001b[1;33m,\u001b[0m \u001b[0mtree\u001b[0m\u001b[1;33m.\u001b[0m\u001b[0mhyperplane\u001b[0m\u001b[1;33m.\u001b[0m\u001b[0mshape\u001b[0m\u001b[1;33m[\u001b[0m\u001b[1;36m0\u001b[0m\u001b[1;33m]\u001b[0m\u001b[1;33m)\u001b[0m\u001b[1;33m,\u001b[0m \u001b[0mdtype\u001b[0m\u001b[1;33m=\u001b[0m\u001b[0mnp\u001b[0m\u001b[1;33m.\u001b[0m\u001b[0mfloat32\u001b[0m\u001b[1;33m)\u001b[0m\u001b[1;33m\u001b[0m\u001b[1;33m\u001b[0m\u001b[0m\n\u001b[0m\u001b[0;32m    655\u001b[0m \u001b[1;33m\u001b[0m\u001b[0m\n\u001b[0;32m    656\u001b[0m     \u001b[0moffsets\u001b[0m \u001b[1;33m=\u001b[0m \u001b[0mnp\u001b[0m\u001b[1;33m.\u001b[0m\u001b[0mzeros\u001b[0m\u001b[1;33m(\u001b[0m\u001b[0mn_nodes\u001b[0m\u001b[1;33m,\u001b[0m \u001b[0mdtype\u001b[0m\u001b[1;33m=\u001b[0m\u001b[0mnp\u001b[0m\u001b[1;33m.\u001b[0m\u001b[0mfloat32\u001b[0m\u001b[1;33m)\u001b[0m\u001b[1;33m\u001b[0m\u001b[1;33m\u001b[0m\u001b[0m\n",
      "\u001b[1;31mMemoryError\u001b[0m: Unable to allocate array with shape (54629, 23574) and data type float32"
     ]
    }
   ],
   "source": [
    "reducer = umap.UMAP()\n",
    "\n",
    "train_cat_df = reducer.fit_transform(train_cat_df)\n",
    "test_cat_df = reducer.transform(test_cat_df)\n",
    "train_cat_df.shape"
   ]
  },
  {
   "cell_type": "code",
   "execution_count": null,
   "metadata": {},
   "outputs": [],
   "source": [
    "test_title_df = pd.DataFrame(test_title.todense())\n",
    "test_descr_df = pd.DataFrame(test_descr.todense())"
   ]
  },
  {
   "cell_type": "code",
   "execution_count": null,
   "metadata": {},
   "outputs": [],
   "source": [
    "reducer = umap.UMAP()\n",
    "\n",
    "train_title_df = reducer.fit_transform(train_title_df)\n",
    "test_title_df = reducer.transform(test_title_df)\n",
    "train_title_df.shape"
   ]
  },
  {
   "cell_type": "code",
   "execution_count": null,
   "metadata": {},
   "outputs": [],
   "source": [
    "reducer = umap.UMAP()\n",
    "\n",
    "train_descr_df = reducer.fit_transform(train_descr_df)\n",
    "test_descr_df = reducer.transform(test_descr_df)\n",
    "train_descr_df.shape"
   ]
  },
  {
   "cell_type": "code",
   "execution_count": null,
   "metadata": {},
   "outputs": [],
   "source": [
    "#Слепим все вместе\n",
    "\n",
    "x = pd.concat([train_cat_df, train_title_df])\n",
    "X = pd.concat([x, train_descr_df])\n",
    "\n",
    "x_val = pd.concat([test_cat_df, test_title_df])\n",
    "X_val = pd.concat([x_val, test_descr_df])\n",
    "\n",
    "Y = data_train['Log1pSalary']\n",
    "Y_val = data_val['Log1pSalary'']"
   ]
  },
  {
   "cell_type": "markdown",
   "metadata": {},
   "source": [
    "# Моделирование"
   ]
  },
  {
   "cell_type": "code",
   "execution_count": null,
   "metadata": {},
   "outputs": [],
   "source": [
    "from sklearn.linear_model import Ridge\n",
    "from sklearn.linear_model import Lasso\n",
    "from sklearn import svm\n",
    "from sklearn.metrics import r2_score\n",
    "from sklearn.metrics import mean_squared_error\n",
    "from sklearn.metrics import mean_absolute_error\n",
    "from sklearn.model_selection import cross_val_score"
   ]
  },
  {
   "cell_type": "code",
   "execution_count": null,
   "metadata": {},
   "outputs": [],
   "source": [
    "#Лассо\n",
    "model = Lasso()\n",
    "model.fit(X, Y)\n",
    "\n",
    "y_pred = model.predict(X_val)\n",
    "\n",
    "mae = mean_absolute_error(Y_val, y_pred)\n",
    "R2 = r2_score(Y_val, y_pred)\n",
    "mse = mean_squared_error(Y_val, y_pred)\n",
    "\n",
    "print('MSE', mse)\n",
    "print('R2:', R2)\n",
    "print('MAE:', mae)\n",
    "\n",
    "#Кросс-валидация\n",
    "scores = cross_val_score(model, X, Y, cv=5,\n",
    "                        scoring='r2')\n",
    "print('Average CV:', scores.mean())\n",
    "\n",
    "sns.scatterplot(Y_val, y_pred)"
   ]
  },
  {
   "cell_type": "code",
   "execution_count": null,
   "metadata": {},
   "outputs": [],
   "source": [
    "#Ридж\n",
    "model = Ridge()\n",
    "model.fit(X, Y)\n",
    "\n",
    "y_pred = model.predict(X_val)\n",
    "\n",
    "mae = mean_absolute_error(Y_val, y_pred)\n",
    "R2 = r2_score(Y_val, y_pred)\n",
    "mse = mean_squared_error(Y_val, y_pred)\n",
    "\n",
    "print('MSE', mse)\n",
    "print('R2:', R2)\n",
    "print('MAE:', mae)\n",
    "\n",
    "#Кросс-валидация\n",
    "scores = cross_val_score(model, X, Y, cv=5,\n",
    "                        scoring='r2')\n",
    "print('Average CV:', scores.mean())\n",
    "\n",
    "sns.scatterplot(Y_val, y_pred)"
   ]
  },
  {
   "cell_type": "code",
   "execution_count": null,
   "metadata": {},
   "outputs": [],
   "source": [
    "#SVM\n",
    "model = svm.LinearSVR()\n",
    "model.fit(X, Y)\n",
    "\n",
    "y_pred = model.predict(X_val)\n",
    "\n",
    "mae = mean_absolute_error(Y_val, y_pred)\n",
    "R2 = r2_score(Y_val, y_pred)\n",
    "mse = mean_squared_error(Y_val, y_pred)\n",
    "\n",
    "print('MSE', mse)\n",
    "print('R2:', R2)\n",
    "print('MAE:', mae)\n",
    "\n",
    "#Кросс-валидация\n",
    "scores = cross_val_score(model, X, Y, cv=5,\n",
    "                        scoring='r2')\n",
    "print('Average CV:', scores.mean())\n",
    "\n",
    "sns.scatterplot(Y_val, y_pred)"
   ]
  },
  {
   "cell_type": "markdown",
   "metadata": {},
   "source": [
    "Деревья"
   ]
  },
  {
   "cell_type": "code",
   "execution_count": null,
   "metadata": {},
   "outputs": [],
   "source": [
    "from sklearn.ensemble import RandomForestRegressor"
   ]
  },
  {
   "cell_type": "code",
   "execution_count": null,
   "metadata": {},
   "outputs": [],
   "source": [
    "#Лес\n",
    "model = RandomForestRegressor()\n",
    "model.fit(X, Y)\n",
    "\n",
    "y_pred = model.predict(X_val)\n",
    "\n",
    "mae = mean_absolute_error(Y_val, y_pred)\n",
    "R2 = r2_score(Y_val, y_pred)\n",
    "mse = mean_squared_error(Y_val, y_pred)\n",
    "\n",
    "print('MSE', mse)\n",
    "print('R2:', R2)\n",
    "print('MAE:', mae)\n",
    "\n",
    "\n",
    "scores = cross_val_score(model, X, Y, cv=5,\n",
    "                         scoring='r2')\n",
    "print('Average value on cross-validation:',scores.mean())\n",
    "\n",
    "sns.scatterplot(Y_val, y_pred)"
   ]
  },
  {
   "cell_type": "markdown",
   "metadata": {},
   "source": [
    "LSTM"
   ]
  },
  {
   "cell_type": "code",
   "execution_count": null,
   "metadata": {},
   "outputs": [],
   "source": [
    "import math\n",
    "from keras.models import Sequential\n",
    "from keras.layers import Dense\n",
    "from keras.layers import LSTM\n",
    "from sklearn.preprocessing import MinMaxScaler"
   ]
  },
  {
   "cell_type": "code",
   "execution_count": null,
   "metadata": {},
   "outputs": [],
   "source": [
    "MAX_NB_WORDS = 3000\n",
    "\n",
    "MAX_SEQUENCE_LENGTH = 250\n",
    "\n",
    "EMBEDDING_DIM = 100"
   ]
  },
  {
   "cell_type": "code",
   "execution_count": null,
   "metadata": {},
   "outputs": [],
   "source": [
    "model = Sequential()\n",
    "model.add(Embedding(MAX_NB_WORDS, EMBEDDING_DIM, input_length=X.shape[1]))\n",
    "model.add(SpatialDropout1D(0.2))\n",
    "model.add(LSTM(100, dropout=0.2, recurrent_dropout=0.2))\n",
    "model.add(Dense(13, activation='softmax'))\n",
    "model.compile(loss = 'mean_squared_error', optimizer='adam', metrics=['accuracy'])\n",
    "\n",
    "epochs = 5\n",
    "batch_size = 64\n",
    "\n",
    "history = model.fit(X, Y, epochs=epochs, batch_size=batch_size,validation_split=0.1,callbacks=[EarlyStopping(monitor='val_loss', patience=3, min_delta=0.0001)])\n"
   ]
  },
  {
   "cell_type": "code",
   "execution_count": null,
   "metadata": {},
   "outputs": [],
   "source": [
    "y_pred = model.predict(X_val)\n",
    "\n",
    "mae = mean_absolute_error(Y_val, y_pred)\n",
    "R2 = r2_score(Y_val, y_pred)\n",
    "mse = mean_squared_error(Y_val, y_pred)\n",
    "\n",
    "print('MSE', mse)\n",
    "print('R2:', R2)\n",
    "print('MAE:', mae)\n",
    "\n",
    "#Кросс-валидация\n",
    "scores = cross_val_score(model, X, Y, cv=5,\n",
    "                        scoring='r2')\n",
    "print('Average CV:', scores.mean())\n",
    "\n",
    "sns.scatterplot(Y_val, y_pred)"
   ]
  },
  {
   "cell_type": "code",
   "execution_count": null,
   "metadata": {},
   "outputs": [],
   "source": [
    "Выводы сделать сложно, потому что начиная с понижения размерности, код работает нестабильно из-за высоких требований к памяти. "
   ]
  }
 ],
 "metadata": {
  "kernelspec": {
   "display_name": "Python 3",
   "language": "python",
   "name": "python3"
  },
  "language_info": {
   "codemirror_mode": {
    "name": "ipython",
    "version": 3
   },
   "file_extension": ".py",
   "mimetype": "text/x-python",
   "name": "python",
   "nbconvert_exporter": "python",
   "pygments_lexer": "ipython3",
   "version": "3.7.1"
  }
 },
 "nbformat": 4,
 "nbformat_minor": 2
}
